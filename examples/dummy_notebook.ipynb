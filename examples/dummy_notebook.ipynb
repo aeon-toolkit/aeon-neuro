{
 "cells": [
  {
   "cell_type": "markdown",
   "source": [
    "# Not an actual example notebook\n",
    "\n",
    "This is a dummy notebook to test examples. It does nothing and will be removed eventually."
   ],
   "metadata": {
    "collapsed": false
   },
   "id": "604611aba2965a65"
  },
  {
   "cell_type": "code",
   "execution_count": null,
   "id": "initial_id",
   "metadata": {
    "collapsed": true
   },
   "outputs": [],
   "source": [
    "from aeon.classification import DummyClassifier\n",
    "\n",
    "DummyClassifier()"
   ]
  }
 ],
 "metadata": {
  "kernelspec": {
   "display_name": "Python 3",
   "language": "python",
   "name": "python3"
  },
  "language_info": {
   "codemirror_mode": {
    "name": "ipython",
    "version": 2
   },
   "file_extension": ".py",
   "mimetype": "text/x-python",
   "name": "python",
   "nbconvert_exporter": "python",
   "pygments_lexer": "ipython2",
   "version": "2.7.6"
  }
 },
 "nbformat": 4,
 "nbformat_minor": 5
}
