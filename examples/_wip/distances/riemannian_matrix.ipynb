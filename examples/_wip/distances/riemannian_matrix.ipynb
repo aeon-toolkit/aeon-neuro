{
 "cells": [
  {
   "cell_type": "markdown",
   "metadata": {},
   "source": [
    "# Riemannian Distance between matrices in aeon-neuro\n",
    "\n",
    "The measurement of the distance between matrices is a crucial step \n",
    "in analyzing the disparity between spectrograms, \n",
    "and the Riemannian distance effectively reflects this difference. \n",
    "\n",
    "We have implemented two different settings for calculating the Riemannian distance, \n",
    "along with their respective weighted versions, \n",
    "and wrapped a Affine-invariant Riemannian distance calculation from PyRiemannian."
   ]
  },
  {
   "cell_type": "markdown",
   "metadata": {},
   "source": [
    "## Conditions for the input matrix\n",
    "\n",
    "The input matrices should be SPD (Symmetric Positive Definite) or HPD (Hermitian Positive Definite).\n",
    "\n",
    "### SPD: Symmetric Positive Definite\n",
    "\n",
    "1. **Symmetric**: A matrix $A$ is symmetric if it is equal to its transpose, i.e., $A = A^T$. This means that the matrix is mirrored along its diagonal, so $A[i, j] = A[j, i]$ for all $i$ and $j$.\n",
    "\n",
    "2. **Positive Definite**: A matrix $A$ is positive definite if for any non-zero vector $x$, the quadratic form $x^T A x$ is positive, i.e., $x^T A x > 0$.\n",
    "\n",
    "A Symmetric Positive Definite (SPD) matrix is a real square matrix that is both symmetric and positive definite.\n",
    "\n",
    "### HPD: Hermitian Positive Definite\n",
    "\n",
    "1. **Hermitian**: A matrix $A$ is Hermitian if it is equal to its conjugate transpose, i.e., $A = A^*$. For a complex matrix, this means $A[i, j] = \\overline{A[j, i]}$, where $\\overline{A[j, i]}$ denotes the complex conjugate of $A[j, i]$. For real matrices, Hermitian matrices are simply symmetric matrices.\n",
    "\n",
    "2. **Positive Definite**: Similar to the SPD case, a matrix $A$ is positive definite if for any non-zero vector $x$, the quadratic form $x^* A x$ is positive, i.e., $x^* A x > 0$, where $x^*$ is the conjugate transpose of $x$.\n",
    "\n",
    "A Hermitian Positive Definite (HPD) matrix is a complex square matrix that is both Hermitian and positive definite."
   ]
  },
  {
   "cell_type": "markdown",
   "metadata": {},
   "source": [
    "## The first type of Riemannian distance\n",
    "\n",
    "$$\n",
    "d_{R1}(\\mathbf{A}, \\mathbf{B}) =\n",
    "        \\sqrt{\\text{tr} \\mathbf{A} +\n",
    "        \\text{tr} \\mathbf{B} -\n",
    "        2 \\text{tr} \\left[(\\mathbf{A} \\mathbf{B})^{1/2}\\right]}\n",
    "$$\n",
    "weighted version:\n",
    "\n",
    "$$\n",
    "d_{W1}(\\mathbf{A}, \\mathbf{B}, \\mathbf{W}) =\n",
    "        \\sqrt{\\text{tr} \\mathbf{W} \\mathbf{A} +\n",
    "        \\text{tr} \\mathbf{W} \\mathbf{B} -\n",
    "        2 \\text{tr} \\mathbf{A}^{1/2} \\mathbf{W} \\mathbf{B} \\mathbf{W} \\mathbf{A}^{1/2}}\n",
    "$$"
   ]
  },
  {
   "cell_type": "code",
   "execution_count": 4,
   "metadata": {},
   "outputs": [
    {
     "name": "stdout",
     "output_type": "stream",
     "text": [
      " Reimannian distance = (0.7320508075688744+0j)\n",
      " weighted Reimannian distance = (0.7320508075688829+0j)\n"
     ]
    }
   ],
   "source": [
    "import numpy as np\n",
    "\n",
    "from aeon_neuro._wip.distances._riemannian_matrix import (\n",
    "    riemannian_distance_1,\n",
    "    weighted_riemannian_distance_1,\n",
    ")\n",
    "\n",
    "A = np.array([[2, -1j], [1j, 2]])\n",
    "B = np.array([[3, 0], [0, 3]])\n",
    "W = np.array([[1, 0], [0, 1]])\n",
    "\n",
    "dR1 = riemannian_distance_1(A, B)\n",
    "dW1 = weighted_riemannian_distance_1(A, B, W)\n",
    "\n",
    "print(f\" Reimannian distance = {dR1}\\n weighted Reimannian distance = {dW1}\")"
   ]
  },
  {
   "cell_type": "markdown",
   "metadata": {},
   "source": [
    "## The second type of Riemannian distance\n",
    "\n",
    "$$\n",
    "d_{R2}(\\mathbf{A}, \\mathbf{B}) =\n",
    "        \\sqrt{\\text{tr} \\mathbf{A} +\n",
    "        \\text{tr} \\mathbf{B} -\n",
    "        2 \\text{tr} \\left[\\mathbf{A}^{1/2} \\mathbf{B}^{1/2}\\right]}\n",
    "$$\n",
    "weighted version:\n",
    "\n",
    "$$\n",
    "d_{W2}(\\mathbf{A}, \\mathbf{B}, \\mathbf{W}) =\n",
    "        \\sqrt{\\text{tr} \\mathbf{W} \\mathbf{A} +\n",
    "        \\text{tr} \\mathbf{W} \\mathbf{B} -\n",
    "        \\text{tr} \\mathbf{W} \\mathbf{A}^{1/2} \\mathbf{B}^{1/2} -\n",
    "        \\text{tr} \\mathbf{W} \\mathbf{B}^{1/2} \\mathbf{A}^{1/2}}\n",
    "$$"
   ]
  },
  {
   "cell_type": "code",
   "execution_count": 6,
   "metadata": {},
   "outputs": [
    {
     "name": "stdout",
     "output_type": "stream",
     "text": [
      " Reimannian distance = (0.7320508075688816+0j)\n",
      " weighted Reimannian distance = (0.7320508075688816+0j)\n"
     ]
    }
   ],
   "source": [
    "import numpy as np\n",
    "\n",
    "from aeon_neuro._wip.distances._riemannian_matrix import (\n",
    "    riemannian_distance_2,\n",
    "    weighted_riemannian_distance_2,\n",
    ")\n",
    "\n",
    "A = np.array([[2, -1j], [1j, 2]])\n",
    "B = np.array([[3, 0], [0, 3]])\n",
    "W = np.array([[1, 0], [0, 1]])\n",
    "\n",
    "dR2 = riemannian_distance_2(A, B)\n",
    "dW2 = weighted_riemannian_distance_2(A, B, W)\n",
    "\n",
    "print(f\" Reimannian distance = {dR2}\\n weighted Reimannian distance = {dW2}\")"
   ]
  },
  {
   "cell_type": "markdown",
   "metadata": {},
   "source": [
    "## Affine-invariant Riemannian distance\n",
    "\n",
    "A direct call to method ``pyriemann.utils.distance.distance_riemann``.\n",
    "$$\n",
    "        d(\\mathbf{A},\\mathbf{B}) =\n",
    "        {\\left( \\sum_i \\log(\\lambda_i)^2 \\right)}^{1/2}\n",
    "$$\n",
    "\n",
    "See [pyriemann document](https://pyriemann.readthedocs.io/en/latest/generated/pyriemann.utils.distance.distance_riemann.html) for more usage details."
   ]
  },
  {
   "cell_type": "code",
   "execution_count": 8,
   "metadata": {},
   "outputs": [
    {
     "name": "stdout",
     "output_type": "stream",
     "text": [
      " Affine-invariant Reimannian distance = 1.0986122886681096\n"
     ]
    }
   ],
   "source": [
    "import numpy as np\n",
    "\n",
    "from aeon_neuro._wip.distances._riemannian_matrix import riemannian_distance_3\n",
    "\n",
    "A = np.array([[2, -1j], [1j, 2]])\n",
    "B = np.array([[3, 0], [0, 3]])\n",
    "W = np.array([[1, 0], [0, 1]])\n",
    "\n",
    "dR3 = riemannian_distance_3(A, B)\n",
    "\n",
    "print(f\" Affine-invariant Reimannian distance = {dR3}\")"
   ]
  }
 ],
 "metadata": {
  "kernelspec": {
   "display_name": "aeon_neuro",
   "language": "python",
   "name": "python3"
  },
  "language_info": {
   "codemirror_mode": {
    "name": "ipython",
    "version": 3
   },
   "file_extension": ".py",
   "mimetype": "text/x-python",
   "name": "python",
   "nbconvert_exporter": "python",
   "pygments_lexer": "ipython3",
   "version": "3.9.19"
  }
 },
 "nbformat": 4,
 "nbformat_minor": 2
}
