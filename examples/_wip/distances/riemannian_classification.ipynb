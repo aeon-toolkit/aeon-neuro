{
 "cells": [
  {
   "cell_type": "markdown",
   "metadata": {},
   "source": [
    "### Comparison of Riemannian Classifiers\n",
    "\n",
    "Riemannian geometry offers methods for extracting features for classification from multichannel EEG signals, by treating functional connectivity matrices as points on a Riemannian manifold - a smooth, curved space where distances between points are defined by the geometry of the manifold rather than the linear geometry of Euclidean space. We demonstrate how to estimate pairwise connectivity matrices between EEG channels in both the time (covariance) and frequency (cross-spectral density) domains. Importantly, both forms are symmetric/hermitian positive definite and reside on a Riemannian manifold. Using Riemannian distances between matrices, we compare a number of classification algorithms from the [pyRiemann](https://pyriemann.readthedocs.io/en/latest/index.html) package."
   ]
  },
  {
   "cell_type": "code",
   "execution_count": 1,
   "metadata": {},
   "outputs": [
    {
     "name": "stderr",
     "output_type": "stream",
     "text": [
      "/Users/griegner/git-repositories/aeon-neuro/.venv/lib/python3.12/site-packages/aeon/base/__init__.py:24: FutureWarning: The aeon package will soon be releasing v1.0.0 with the removal of legacy modules and interfaces such as BaseTransformer and BaseForecaster. This will contain breaking changes. See aeon-toolkit.org for more information. Set aeon.AEON_DEPRECATION_WARNING or the AEON_DEPRECATION_WARNING environmental variable to 'False' to disable this warning.\n",
      "  warnings.warn(\n",
      "OMP: Info #276: omp_set_nested routine deprecated, please use omp_set_max_active_levels instead.\n"
     ]
    }
   ],
   "source": [
    "import numpy as np\n",
    "from aeon.datasets import load_classification\n",
    "from aeon.transformations.collection.base import BaseCollectionTransformer\n",
    "from pyriemann.classification import (\n",
    "    MDM,\n",
    "    SVC,\n",
    "    FgMDM,\n",
    "    KNearestNeighbor,\n",
    "    MeanField,\n",
    "    TSclassifier,\n",
    ")\n",
    "from sklearn.pipeline import make_pipeline\n",
    "\n",
    "from aeon_neuro._wip.transformations.series._covariance import CovarianceMatrix\n",
    "from aeon_neuro._wip.transformations.series._power_spectrum import CrossSpectralMatrix"
   ]
  },
  {
   "cell_type": "markdown",
   "metadata": {},
   "source": [
    "### Load EEG Classification Dataset\n",
    "\n",
    "The KDD dataset segments an EEG series from a single subject into a collection of epochs with corresponding labels indicating whether the subject's hand is resting on a table (\"rest\") or raised (\"task\"). Some processing steps have been pre-applied: bandpass filtering between 0.5Hz-100Hz, downsampling to 100 timepoints, and applying a channel selection algorithm (see the [data loading example](../../data_loading.ipynb)). Both the training and testing sets have shape '(40_epochs, 4_channels, 100_timepoints)' with 20 epochs of each class."
   ]
  },
  {
   "cell_type": "code",
   "execution_count": 2,
   "metadata": {},
   "outputs": [
    {
     "name": "stdout",
     "output_type": "stream",
     "text": [
      "X shape: (40, 4, 100)\ty shape: (40,)\n"
     ]
    }
   ],
   "source": [
    "X_train, y_train = load_classification(\n",
    "    name=\"KDD_MTSC\", split=\"TRAIN\", extract_path=\"../aeon_neuro/data/KDD_Examples\"\n",
    ")\n",
    "\n",
    "X_test, y_test = load_classification(\n",
    "    name=\"KDD_MTSC\", split=\"TEST\", extract_path=\"../aeon_neuro/data/KDD_Examples\"\n",
    ")\n",
    "\n",
    "print(f\"X shape: {X_train.shape}\\ty shape: {y_train.shape}\")"
   ]
  },
  {
   "cell_type": "markdown",
   "metadata": {},
   "source": [
    "### Pipeline of Transformers and Classifiers\n",
    "\n",
    "The transformers take a collection of multivariate series of '(n_epochs, n_channels, n_timepoints)' and output functional connectivity matrices for each epoch, '(n_epochs, n_channels, n_channels)'. Specifically, we estimate covariance and cross-spectral density matrices. Since some of the classifiers used are only defined on real-valued domains, so we compute the magnitude of the cross-spectral densities, which takes the absolute value of the real part of the complex entries of the matrix. The pipeline first applies these transformers, then classifies the resulting matrices using Riemannian means and distances between matrices. The following classifiers are compared (see [pyRiemann documentation](https://pyriemann.readthedocs.io/en/latest/index.html)):\n",
    "\n",
    "1. minimum distance to mean\n",
    "2. minimum distance to mean with geodesic smoothing\n",
    "3. tangent space embedding\n",
    "4. k-nearest neighbors\n",
    "5. support-vector machine\n",
    "6. minimum distance to mean field"
   ]
  },
  {
   "cell_type": "code",
   "execution_count": 3,
   "metadata": {},
   "outputs": [],
   "source": [
    "class SeriesToCollectionWrapper(BaseCollectionTransformer):\n",
    "    \"\"\"Treat a SeriesTransformer as a CollectionTransformer.\n",
    "\n",
    "    Parameters\n",
    "    ----------\n",
    "    transformer : SeriesTransformer\n",
    "        The transformer to wrap.\n",
    "    \"\"\"\n",
    "\n",
    "    _tags = {\"capability:multivariate\": True}\n",
    "\n",
    "    def __init__(self, transformer):\n",
    "        self.transformer = transformer\n",
    "        super().__init__()\n",
    "\n",
    "    def _transform(self, X, y=None):\n",
    "        return np.array([self.transformer.fit_transform(x) for x in X])\n",
    "\n",
    "\n",
    "# initialize transformers and classifiers\n",
    "# use magnitude of the CSD bc many of the classifiers handle real-valued matrices\n",
    "cov_transformer = SeriesToCollectionWrapper(CovarianceMatrix())\n",
    "csd_transformer = SeriesToCollectionWrapper(\n",
    "    CrossSpectralMatrix(sfreq=112.5, magnitude=True)\n",
    ")\n",
    "\n",
    "# all classifiers compare SPD matrices by a Riemannian distance measure\n",
    "classifiers = {\n",
    "    \"minimum distance to mean\": MDM(),\n",
    "    \"geodesic filtering\": FgMDM(),\n",
    "    \"tangent space embedding\": TSclassifier(),\n",
    "    \"k-nearest neighbors\": KNearestNeighbor(),\n",
    "    \"support-vector machine\": SVC(),\n",
    "    \"minimum distance to mean field\": MeanField(),\n",
    "}\n",
    "\n",
    "pipelines = {}\n",
    "for name, clf in classifiers.items():\n",
    "    pipelines[f\"cov matrix + {name}\"] = make_pipeline(cov_transformer, clf)\n",
    "    pipelines[f\"csd matrix + {name}\"] = make_pipeline(csd_transformer, clf)"
   ]
  },
  {
   "cell_type": "markdown",
   "metadata": {},
   "source": [
    "### Compare Classification Accuracies"
   ]
  },
  {
   "cell_type": "code",
   "execution_count": 4,
   "metadata": {},
   "outputs": [
    {
     "name": "stdout",
     "output_type": "stream",
     "text": [
      "cov matrix + minimum distance to mean         accuracy: 0.675\n",
      "csd matrix + minimum distance to mean         accuracy: 0.8\n",
      "cov matrix + geodesic filtering               accuracy: 0.8\n",
      "csd matrix + geodesic filtering               accuracy: 0.875\n",
      "cov matrix + tangent space embedding          accuracy: 0.7\n",
      "csd matrix + tangent space embedding          accuracy: 0.825\n",
      "cov matrix + k-nearest neighbors              accuracy: 0.875\n",
      "csd matrix + k-nearest neighbors              accuracy: 0.925\n",
      "cov matrix + support-vector machine           accuracy: 0.7\n",
      "csd matrix + support-vector machine           accuracy: 0.85\n",
      "cov matrix + minimum distance to mean field   accuracy: 0.675\n",
      "csd matrix + minimum distance to mean field   accuracy: 0.725\n"
     ]
    }
   ],
   "source": [
    "for name, pipeline in pipelines.items():\n",
    "    pipeline.fit(X_train, y_train)\n",
    "    y_pred = pipeline.predict(X_test)\n",
    "    print(f\"{name: <45} accuracy: {np.mean(y_pred == y_test)}\")"
   ]
  }
 ],
 "metadata": {
  "kernelspec": {
   "display_name": ".venv",
   "language": "python",
   "name": "python3"
  },
  "language_info": {
   "codemirror_mode": {
    "name": "ipython",
    "version": 3
   },
   "file_extension": ".py",
   "mimetype": "text/x-python",
   "name": "python",
   "nbconvert_exporter": "python",
   "pygments_lexer": "ipython3",
   "version": "3.12.6"
  }
 },
 "nbformat": 4,
 "nbformat_minor": 2
}
