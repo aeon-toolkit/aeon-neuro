{
 "cells": [
  {
   "cell_type": "markdown",
   "source": [
    "USing EEG data with aeon\n",
    "\n",
    "the aeon toolkit works with numpy arrayss. A single time series is stored in a 2D\n",
    "numpy of shape ``(n_channels, n_timepoints)``.\n"
   ],
   "metadata": {
    "collapsed": false
   }
  }
 ],
 "metadata": {
  "kernelspec": {
   "display_name": "Python 3",
   "language": "python",
   "name": "python3"
  },
  "language_info": {
   "codemirror_mode": {
    "name": "ipython",
    "version": 2
   },
   "file_extension": ".py",
   "mimetype": "text/x-python",
   "name": "python",
   "nbconvert_exporter": "python",
   "pygments_lexer": "ipython2",
   "version": "2.7.6"
  }
 },
 "nbformat": 4,
 "nbformat_minor": 0
}
